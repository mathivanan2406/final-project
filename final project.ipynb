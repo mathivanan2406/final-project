{
 "cells": [
  {
   "cell_type": "code",
   "execution_count": null,
   "id": "3c3ece36",
   "metadata": {},
   "outputs": [],
   "source": [
    "ID: Unique ID of the record\n",
    "Customer_ID: Unique ID of the customer\n",
    "Month: Month of the year\n",
    "Name: The name of the person\n",
    "Age: The age of the person\n",
    "SSN: Social Security Number of the person\n",
    "Occupation: The occupation of the person\n",
    "Annual_Income: The Annual Income of the person\n",
    "Monthly_Inhand_Salary: Monthly in-hand salary of the person\n",
    "Num_Bank_Accounts: The number of bank accounts of the person\n",
    "Num_Credit_Card: Number of credit cards the person is having\n",
    "Interest_Rate: The interest rate on the credit card of the person\n",
    "Num_of_Loan: The number of loans taken by the person from the bank\n",
    "Type_of_Loan: The types of loans taken by the person from the bank\n",
    "Delay_from_due_date: The average number of days delayed by the person from the date of payment\n",
    "Num_of_Delayed_Payment: Number of payments delayed by the person\n",
    "Changed_Credit_Card: The percentage change in the credit card limit of the person\n",
    "Num_Credit_Inquiries: The number of credit card inquiries by the person\n",
    "Credit_Mix: Classification of Credit Mix of the customer\n",
    "Monthly_Transtration: Monthaly transtration in the account\n",
    "Monthly_Credit: Monthly how much credit the amount in the account\n",
    "Outstanding_Debt: The outstanding balance of the person\n",
    "Credit_Utilization_Ratio: The credit utilization ratio of the credit card of the customer\n",
    "Credit_History_Age: The age of the credit history of the person\n",
    "Payment_of_Min_Amount: Yes if the person paid the minimum amount to be paid only, otherwise no.\n",
    "Total_EMI_per_month: The total EMI per month of the person\n",
    "Amount_invested_monthly: The monthly amount invested by the person\n",
    "Payment_Behaviour: The payment behaviour of the person\n",
    "Monthly_Balance: The monthly balance left in the account of the person\n",
    "Credit_Score: The credit score of the person"
   ]
  },
  {
   "cell_type": "code",
   "execution_count": null,
   "id": "85f9d7db",
   "metadata": {},
   "outputs": [],
   "source": [
    "import pandas as pd\n",
    "import numpy as np\n",
    "import seaborn as sb"
   ]
  },
  {
   "cell_type": "code",
   "execution_count": null,
   "id": "9403c4f4",
   "metadata": {},
   "outputs": [],
   "source": [
    "df = pd.read_csv(r\"D:\\Data Science\\project\\final project\\Credit.csv\")\n",
    "df"
   ]
  },
  {
   "cell_type": "code",
   "execution_count": null,
   "id": "aa828cdb",
   "metadata": {},
   "outputs": [],
   "source": [
    "df.head()"
   ]
  },
  {
   "cell_type": "code",
   "execution_count": null,
   "id": "c21bd1eb",
   "metadata": {},
   "outputs": [],
   "source": [
    "df.isnull().sum()"
   ]
  },
  {
   "cell_type": "code",
   "execution_count": null,
   "id": "318a9aa0",
   "metadata": {},
   "outputs": [],
   "source": [
    "df.info()"
   ]
  },
  {
   "cell_type": "code",
   "execution_count": null,
   "id": "9c1e712a",
   "metadata": {},
   "outputs": [],
   "source": [
    "df.drop(columns = ['SSN'], axis=1, inplace=True)\n",
    "df"
   ]
  },
  {
   "cell_type": "code",
   "execution_count": null,
   "id": "d6a5eb62",
   "metadata": {},
   "outputs": [],
   "source": [
    "df.info()"
   ]
  },
  {
   "cell_type": "code",
   "execution_count": null,
   "id": "c973f2b2",
   "metadata": {},
   "outputs": [],
   "source": [
    "df[\"Credit_Score\"].value_counts()"
   ]
  },
  {
   "cell_type": "markdown",
   "id": "3351d7b1",
   "metadata": {},
   "source": [
    "We have checked the how many credit_score values as per our data standard firty three thoushand one hundered seventy four and poor Twenty eighty thoushand nine hundered nightyeight and Good Seventeen thoushand eight hundered twenty eight."
   ]
  },
  {
   "cell_type": "code",
   "execution_count": null,
   "id": "aad195a1",
   "metadata": {},
   "outputs": [],
   "source": [
    "df[\"Occupation\"].value_counts()"
   ]
  },
  {
   "cell_type": "code",
   "execution_count": null,
   "id": "fe2b7cfe",
   "metadata": {},
   "outputs": [],
   "source": [
    "descriptive_stats = df.describe()\n",
    "descriptive_stats"
   ]
  },
  {
   "cell_type": "code",
   "execution_count": null,
   "id": "a8c5a09b",
   "metadata": {},
   "outputs": [],
   "source": [
    "\n",
    "# Assuming your dataset is in a DataFrame called 'df'\n",
    "# Replace 'Occupation' with the actual column name if it's different\n",
    "unique_occupations = df['Occupation'].unique()\n",
    "\n",
    "# Display unique values\n",
    "print(unique_occupations)"
   ]
  },
  {
   "cell_type": "code",
   "execution_count": null,
   "id": "126e73f3",
   "metadata": {},
   "outputs": [],
   "source": [
    "unique_Credit_Mix = df['Credit_Mix'].unique()\n",
    "\n",
    "# Display unique values\n",
    "print(unique_Credit_Mix)"
   ]
  },
  {
   "cell_type": "code",
   "execution_count": null,
   "id": "ba674dd7",
   "metadata": {},
   "outputs": [],
   "source": [
    "unique_Payment_of_Min_Amount = df['Payment_of_Min_Amount'].unique()\n",
    "\n",
    "# Display unique values\n",
    "print(unique_Payment_of_Min_Amount)"
   ]
  },
  {
   "cell_type": "code",
   "execution_count": null,
   "id": "57670f6f",
   "metadata": {},
   "outputs": [],
   "source": [
    "df[\"Payment_of_Min_Amount\"] = df[\"Payment_of_Min_Amount\"].map({\"NM\": 1, \n",
    "                               \"Yes\": 2, \n",
    "                               \"No\": 0})"
   ]
  },
  {
   "cell_type": "code",
   "execution_count": null,
   "id": "334c11db",
   "metadata": {},
   "outputs": [],
   "source": [
    "df[\"Credit_Mix\"] = df[\"Credit_Mix\"].map({\"Standard\": 1, \n",
    "                               \"Good\": 2, \n",
    "                               \"Bad\": 0})"
   ]
  },
  {
   "cell_type": "code",
   "execution_count": null,
   "id": "1d28d098",
   "metadata": {},
   "outputs": [],
   "source": [
    "df"
   ]
  },
  {
   "cell_type": "markdown",
   "id": "528b9c99",
   "metadata": {},
   "source": [
    "# Visualizing Data"
   ]
  },
  {
   "cell_type": "code",
   "execution_count": null,
   "id": "672d9632",
   "metadata": {},
   "outputs": [],
   "source": [
    "sb.countplot(data = df,x = 'Credit_Score')"
   ]
  },
  {
   "cell_type": "markdown",
   "id": "dbfda8c2",
   "metadata": {},
   "source": [
    "We analysing the data visualizing at crediscore standard customers is more then others."
   ]
  },
  {
   "cell_type": "code",
   "execution_count": null,
   "id": "ead7203c",
   "metadata": {},
   "outputs": [],
   "source": [
    "pd.crosstab(df['Occupation'],df['Credit_Score'],normalize='index')"
   ]
  },
  {
   "cell_type": "code",
   "execution_count": null,
   "id": "0cab77f7",
   "metadata": {},
   "outputs": [],
   "source": [
    "pd.crosstab(df['Occupation'],df['Credit_Score'],normalize='index').plot.bar(title = \"Credit Scores Based on Occupation\")"
   ]
  },
  {
   "cell_type": "markdown",
   "id": "617e6b6f",
   "metadata": {},
   "source": [
    "We have analysing the Occupation and credit score Writer as more credit scores compare to others."
   ]
  },
  {
   "cell_type": "code",
   "execution_count": null,
   "id": "0e918686",
   "metadata": {},
   "outputs": [],
   "source": [
    "sb.barplot(data=df,x='Annual_Income',y='Credit_Score',hue = 'Occupation').set(title = \"Credit Scores Based on Annual Income\")"
   ]
  },
  {
   "cell_type": "markdown",
   "id": "87fbb4bc",
   "metadata": {},
   "source": [
    "In annual_income more than 65,000 as good credit scores keep it on occupation as Writer and Architect."
   ]
  },
  {
   "cell_type": "code",
   "execution_count": null,
   "id": "369a5297",
   "metadata": {},
   "outputs": [],
   "source": [
    "sb.barplot(data=df,x='Monthly_Inhand_Salary',y='Credit_Score').set(title = \"Credit Scores Based on Monthly_Inhand_Salary\")"
   ]
  },
  {
   "cell_type": "markdown",
   "id": "28747cbd",
   "metadata": {},
   "source": [
    "In credit scores based on Monthly Inhand Salary as more than 4000 is good credit scores."
   ]
  },
  {
   "cell_type": "code",
   "execution_count": null,
   "id": "a0067da8",
   "metadata": {},
   "outputs": [],
   "source": [
    "sb.barplot(data=df,x='Num_Bank_Accounts',y='Credit_Score').set(title = \"Credit Scores Based on Num_Bank_Accounts\")"
   ]
  },
  {
   "cell_type": "markdown",
   "id": "aaf8b238",
   "metadata": {},
   "source": [
    "In Credit scores based on num of bank accounts as less than three accounts is good credit scores."
   ]
  },
  {
   "cell_type": "code",
   "execution_count": null,
   "id": "8597dc20",
   "metadata": {},
   "outputs": [],
   "source": [
    "sb.barplot(data=df,x='Num_Credit_Card',y='Credit_Score').set(title = \"Credit Scores Based on Num_Credit_Card\")"
   ]
  },
  {
   "cell_type": "markdown",
   "id": "880e69d0",
   "metadata": {},
   "source": [
    "In analysing credit scores based on num of credit cards as less than four credit cards using is good scores."
   ]
  },
  {
   "cell_type": "code",
   "execution_count": null,
   "id": "6c5328eb",
   "metadata": {},
   "outputs": [],
   "source": [
    "sb.barplot(data=df,x='Interest_Rate',y='Credit_Score').set(title = \"Credit Scores Based on Interest_Rate\")"
   ]
  },
  {
   "cell_type": "markdown",
   "id": "a3cbcfa5",
   "metadata": {},
   "source": [
    "In analysing the interest rate less than 7.5 as good credit score."
   ]
  },
  {
   "cell_type": "code",
   "execution_count": null,
   "id": "70d91632",
   "metadata": {},
   "outputs": [],
   "source": [
    "sb.barplot(data=df,x='Num_of_Loan',y='Credit_Score').set(title = \"Credit Scores Based on  Number of Loan\")"
   ]
  },
  {
   "cell_type": "markdown",
   "id": "55156688",
   "metadata": {},
   "source": [
    "In analysing the number of loans two or less than three loans as good credit scores."
   ]
  },
  {
   "cell_type": "code",
   "execution_count": null,
   "id": "9027a317",
   "metadata": {},
   "outputs": [],
   "source": [
    "sb.barplot(data=df,x='Delay_from_due_date',y='Credit_Score').set(title = \"Credit Scores Based on  Delay from duedate\")"
   ]
  },
  {
   "cell_type": "markdown",
   "id": "fb63f389",
   "metadata": {},
   "source": [
    "In analysing the Delay from due date as less than 10 days is good credit scores."
   ]
  },
  {
   "cell_type": "code",
   "execution_count": null,
   "id": "c4cc4ca5",
   "metadata": {},
   "outputs": [],
   "source": [
    "sb.barplot(data=df,x='Num_of_Delayed_Payment',y='Credit_Score').set(title = \"Credit Scores Based on  Number of Delayed Payment\")"
   ]
  },
  {
   "cell_type": "markdown",
   "id": "6ba29ca4",
   "metadata": {},
   "source": [
    "In analysing the number of delayed payments as less than 9 payments is good credit scores."
   ]
  },
  {
   "cell_type": "code",
   "execution_count": null,
   "id": "1546f8f1",
   "metadata": {},
   "outputs": [],
   "source": [
    "sb.barplot(data=df,x='Monthly_Transtration',y='Credit_Score').set(title = \"Credit Scores Based on  Monthly Transtration\")"
   ]
  },
  {
   "cell_type": "markdown",
   "id": "e94a0f04",
   "metadata": {},
   "source": [
    "In analysing the monthly transtration more than 4000 to 5000 transtration is good credit scores."
   ]
  },
  {
   "cell_type": "code",
   "execution_count": null,
   "id": "c9eeb05b",
   "metadata": {},
   "outputs": [],
   "source": [
    "sb.barplot(data=df,x='Outstanding_Debt',y='Credit_Score').set(title = \"Credit Scores Based on  Outstanding Debt\")"
   ]
  },
  {
   "cell_type": "markdown",
   "id": "995cefbe",
   "metadata": {},
   "source": [
    "In analysing the outstanding debit as less than 800 to get good credit scores."
   ]
  },
  {
   "cell_type": "code",
   "execution_count": null,
   "id": "0fc40919",
   "metadata": {},
   "outputs": [],
   "source": [
    "sb.barplot(data=df,x='Credit_Utilization_Ratio',y='Credit_Score').set(title = \"Credit Scores Based on Credit Utilization Ratio\")"
   ]
  },
  {
   "cell_type": "markdown",
   "id": "ab426d67",
   "metadata": {},
   "source": [
    "In analysing the credit utilization ratio all are in same credit scores."
   ]
  },
  {
   "cell_type": "code",
   "execution_count": null,
   "id": "ca46043d",
   "metadata": {},
   "outputs": [],
   "source": [
    "sb.barplot(data=df,x='Credit_History_Age',y='Credit_Score').set(title = \"Credit Scores Based on Credit History Age\")"
   ]
  },
  {
   "cell_type": "markdown",
   "id": "ae1f1d6d",
   "metadata": {},
   "source": [
    "In analysing the credit history age as more than 250 is good credit scores."
   ]
  },
  {
   "cell_type": "code",
   "execution_count": null,
   "id": "f3cc6459",
   "metadata": {},
   "outputs": [],
   "source": [
    "sb.barplot(data=df,x='Total_EMI_per_month',y='Credit_Score').set(title = \"Credit Scores Based on Total EMI per month\")"
   ]
  },
  {
   "cell_type": "markdown",
   "id": "97a0d228",
   "metadata": {},
   "source": [
    "In analysing the total EMI per month as 120 is good credit scores."
   ]
  },
  {
   "cell_type": "code",
   "execution_count": null,
   "id": "2ee419ee",
   "metadata": {},
   "outputs": [],
   "source": [
    "import matplotlib.pyplot as plt"
   ]
  },
  {
   "cell_type": "code",
   "execution_count": null,
   "id": "d829c8ac",
   "metadata": {},
   "outputs": [],
   "source": [
    "plt.figure(figsize=(12, 8))\n",
    "sb.boxplot(data=df.drop(['ID'], axis=1))  # Exclude non-numeric columns\n",
    "plt.title('Box Plot for Numerical Columns')\n",
    "plt.show()\n",
    "\n",
    "# Heat map for correlation matrix\n",
    "correlation_matrix = df.corr()\n",
    "plt.figure(figsize=(10, 8))\n",
    "sb.heatmap(correlation_matrix, annot=True, cmap='coolwarm', fmt=\".2f\")\n",
    "plt.title('Correlation Heat Map')\n",
    "plt.show()"
   ]
  },
  {
   "cell_type": "code",
   "execution_count": null,
   "id": "aed6e220",
   "metadata": {},
   "outputs": [],
   "source": [
    "plt.figure(figsize=(10, 6))\n",
    "sb.boxplot(x='Annual_Income', data=df)\n",
    "plt.title('Box Plot for Annual Income')\n",
    "plt.show()"
   ]
  },
  {
   "cell_type": "markdown",
   "id": "28f02922",
   "metadata": {},
   "source": [
    "We have checked boxplot in Annual Income in more than 150000 as outlier."
   ]
  },
  {
   "cell_type": "code",
   "execution_count": null,
   "id": "4ca39a34",
   "metadata": {},
   "outputs": [],
   "source": [
    "df['Log_Annual_Income'] = np.log1p(df['Annual_Income'])\n",
    "\n",
    "# Box plot for the log-transformed \"Annual_Income\" column\n",
    "plt.figure(figsize=(10, 6))\n",
    "sb.boxplot(x='Log_Annual_Income', data=df)\n",
    "plt.title('Box Plot for Log-Transformed Annual Income')\n",
    "plt.show()"
   ]
  },
  {
   "cell_type": "code",
   "execution_count": null,
   "id": "fb1f3131",
   "metadata": {},
   "outputs": [],
   "source": [
    "df.drop('Annual_Income', axis=1, inplace=True)\n",
    "df"
   ]
  },
  {
   "cell_type": "code",
   "execution_count": null,
   "id": "86632d80",
   "metadata": {},
   "outputs": [],
   "source": [
    "from sklearn.model_selection import train_test_split\n",
    "x = np.array(df[[\"Log_Annual_Income\", \"Monthly_Inhand_Salary\", \n",
    "                   \"Num_Bank_Accounts\", \"Num_Credit_Card\", \n",
    "                   \"Interest_Rate\", \"Num_of_Loan\", \n",
    "                   \"Delay_from_due_date\", \"Monthly_Transtration\", \"Num_of_Delayed_Payment\", \n",
    "                   \"Credit_Mix\", \"Outstanding_Debt\", \n",
    "                   \"Credit_History_Age\", \"Monthly_Balance\"]])\n",
    "y = np.array(df[[\"Credit_Score\"]])"
   ]
  },
  {
   "cell_type": "markdown",
   "id": "505a7777",
   "metadata": {},
   "source": [
    "Next we using Train test split takan x and y "
   ]
  },
  {
   "cell_type": "code",
   "execution_count": null,
   "id": "caa22f89",
   "metadata": {},
   "outputs": [],
   "source": [
    "x"
   ]
  },
  {
   "cell_type": "code",
   "execution_count": null,
   "id": "b6b7a568",
   "metadata": {},
   "outputs": [],
   "source": [
    "y"
   ]
  },
  {
   "cell_type": "code",
   "execution_count": null,
   "id": "e415bf6b",
   "metadata": {},
   "outputs": [],
   "source": [
    "xtrain, xtest, ytrain, ytest = train_test_split(x, y, \n",
    "                                                    test_size=0.33, \n",
    "                                                    random_state=42)"
   ]
  },
  {
   "cell_type": "code",
   "execution_count": null,
   "id": "50eb96dc",
   "metadata": {},
   "outputs": [],
   "source": [
    "xtrain"
   ]
  },
  {
   "cell_type": "code",
   "execution_count": null,
   "id": "eada822f",
   "metadata": {},
   "outputs": [],
   "source": [
    "from sklearn.ensemble import RandomForestClassifier"
   ]
  },
  {
   "cell_type": "code",
   "execution_count": null,
   "id": "c705987d",
   "metadata": {},
   "outputs": [],
   "source": [
    "model = RandomForestClassifier()\n",
    "model.fit(xtrain, ytrain)"
   ]
  },
  {
   "cell_type": "code",
   "execution_count": null,
   "id": "9ce84f0e",
   "metadata": {},
   "outputs": [],
   "source": [
    "print(\"Credit Score Prediction : \")\n",
    "a = float(input(\"Log_Annual_Income: \"))\n",
    "b = float(input(\"Monthly Inhand Salary: \"))\n",
    "c = float(input(\"Number of Bank Accounts: \"))\n",
    "d = float(input(\"Number of Credit cards: \"))\n",
    "e = float(input(\"Interest rate: \"))\n",
    "f = float(input(\"Number of Loans: \"))\n",
    "g = float(input(\"Average number of days delayed by the person: \"))\n",
    "h = float(input(\"Number of delayed payments: \"))\n",
    "i = float(input(\"Monthly_Transtration: \"))\n",
    "j = input(\"Credit Mix (Bad: 0, Standard: 1, Good: 2) : \")\n",
    "k = float(input(\"Outstanding Debt: \"))\n",
    "l = float(input(\"Credit History Age: \"))\n",
    "m = float(input(\"Monthly Balance: \"))\n",
    "\n",
    "features = np.array([[a, b, c, d, e, f, g, h, i, j, k, l,m]])\n",
    "print(\"Predicted Credit Score = \", model.predict(features))"
   ]
  },
  {
   "cell_type": "markdown",
   "id": "d8aa8da0",
   "metadata": {},
   "source": [
    "we predicted credit scores given some data scores is Good."
   ]
  },
  {
   "cell_type": "code",
   "execution_count": 48,
   "id": "33753fac",
   "metadata": {},
   "outputs": [],
   "source": [
    "import joblib"
   ]
  },
  {
   "cell_type": "code",
   "execution_count": 49,
   "id": "f11540db",
   "metadata": {},
   "outputs": [
    {
     "data": {
      "text/plain": [
       "['credit_score_model.pkl']"
      ]
     },
     "execution_count": 49,
     "metadata": {},
     "output_type": "execute_result"
    }
   ],
   "source": [
    "joblib.dump(model, 'credit_score_model.pkl')"
   ]
  },
  {
   "cell_type": "code",
   "execution_count": 50,
   "id": "bcd3ce80",
   "metadata": {},
   "outputs": [],
   "source": [
    "df[\"Credit_Score\"] = df[\"Credit_Score\"].map({\"Standard\": 1, \n",
    "                               \"Good\": 2, \n",
    "                               \"Bad\": 0})"
   ]
  },
  {
   "cell_type": "code",
   "execution_count": 51,
   "id": "bacd5861",
   "metadata": {},
   "outputs": [],
   "source": [
    "import pandas as pd\n",
    "import numpy as np\n",
    "from sklearn.cluster import KMeans\n",
    "from sklearn.impute import SimpleImputer\n",
    "from sklearn.preprocessing import StandardScaler\n",
    "from sklearn.metrics import silhouette_score, davies_bouldin_score"
   ]
  },
  {
   "cell_type": "code",
   "execution_count": 52,
   "id": "cd7ed3e7",
   "metadata": {},
   "outputs": [
    {
     "name": "stdout",
     "output_type": "stream",
     "text": [
      "           ID  Customer_ID  Month           Name   Age Occupation  \\\n",
      "0        5634         3392      1  Aaron Maashoh  23.0  Scientist   \n",
      "1        5635         3392      2  Aaron Maashoh  23.0  Scientist   \n",
      "2        5636         3392      3  Aaron Maashoh  23.0  Scientist   \n",
      "3        5637         3392      4  Aaron Maashoh  23.0  Scientist   \n",
      "4        5638         3392      5  Aaron Maashoh  23.0  Scientist   \n",
      "...       ...          ...    ...            ...   ...        ...   \n",
      "99995  155625        37932      4          Nicks  25.0   Mechanic   \n",
      "99996  155626        37932      5          Nicks  25.0   Mechanic   \n",
      "99997  155627        37932      6          Nicks  25.0   Mechanic   \n",
      "99998  155628        37932      7          Nicks  25.0   Mechanic   \n",
      "99999  155629        37932      8          Nicks  25.0   Mechanic   \n",
      "\n",
      "       Monthly_Inhand_Salary  Num_Bank_Accounts  Num_Credit_Card  \\\n",
      "0                1824.843333                3.0              4.0   \n",
      "1                1824.843333                3.0              4.0   \n",
      "2                1824.843333                3.0              4.0   \n",
      "3                1824.843333                3.0              4.0   \n",
      "4                1824.843333                3.0              4.0   \n",
      "...                      ...                ...              ...   \n",
      "99995            3359.415833                4.0              6.0   \n",
      "99996            3359.415833                4.0              6.0   \n",
      "99997            3359.415833                4.0              6.0   \n",
      "99998            3359.415833                4.0              6.0   \n",
      "99999            3359.415833                4.0              6.0   \n",
      "\n",
      "       Interest_Rate  ...  Credit_Utilization_Ratio Credit_History_Age  \\\n",
      "0                  3  ...                 26.822620              265.0   \n",
      "1                  3  ...                 31.944960              266.0   \n",
      "2                  3  ...                 28.609352              267.0   \n",
      "3                  3  ...                 31.377862              268.0   \n",
      "4                  3  ...                 24.797347              269.0   \n",
      "...              ...  ...                       ...                ...   \n",
      "99995              7  ...                 34.663572              378.0   \n",
      "99996              7  ...                 40.565631              379.0   \n",
      "99997              7  ...                 41.255522              380.0   \n",
      "99998              7  ...                 33.638208              381.0   \n",
      "99999              7  ...                 34.192463              382.0   \n",
      "\n",
      "       Payment_of_Min_Amount  Total_EMI_per_month  Amount_invested_monthly  \\\n",
      "0                          0            49.574949                21.465380   \n",
      "1                          0            49.574949                21.465380   \n",
      "2                          0            49.574949                21.465380   \n",
      "3                          0            49.574949                21.465380   \n",
      "4                          0            49.574949                21.465380   \n",
      "...                      ...                  ...                      ...   \n",
      "99995                      0            35.104023                24.028477   \n",
      "99996                      0            35.104023                24.028477   \n",
      "99997                      0            35.104023                24.028477   \n",
      "99998                      0            35.104023                24.028477   \n",
      "99999                      0            35.104023                24.028477   \n",
      "\n",
      "                      Payment_Behaviour  Monthly_Balance  Credit_Score  \\\n",
      "0       High_spent_Small_value_payments       312.494089      2.000000   \n",
      "1        Low_spent_Large_value_payments       284.629163      2.000000   \n",
      "2       Low_spent_Medium_value_payments       331.209863      2.000000   \n",
      "3        Low_spent_Small_value_payments       223.451310      2.000000   \n",
      "4      High_spent_Medium_value_payments       341.489231      2.000000   \n",
      "...                                 ...              ...           ...   \n",
      "99995   High_spent_Large_value_payments       479.866228      1.251092   \n",
      "99996  High_spent_Medium_value_payments       496.651610      1.251092   \n",
      "99997   High_spent_Large_value_payments       516.809083      1.251092   \n",
      "99998    Low_spent_Large_value_payments       319.164979      1.000000   \n",
      "99999  High_spent_Medium_value_payments       393.673696      1.251092   \n",
      "\n",
      "       Log_Annual_Income  Cluster  \n",
      "0               9.858235        1  \n",
      "1               9.858235        1  \n",
      "2               9.858235        1  \n",
      "3               9.858235        1  \n",
      "4               9.858235        1  \n",
      "...                  ...      ...  \n",
      "99995          10.587341        1  \n",
      "99996          10.587341        1  \n",
      "99997          10.587341        1  \n",
      "99998          10.587341        1  \n",
      "99999          10.587341        1  \n",
      "\n",
      "[100000 rows x 30 columns]\n",
      "Silhouette Score: 0.1704929785844742\n",
      "Davies-Bouldin Index: 1.819573479178599\n",
      "Enter value for Age: 21\n",
      "Enter value for Monthly_Inhand_Salary: 5142\n",
      "Enter value for Num_Bank_Accounts: 2\n",
      "Enter value for Num_Credit_Card: 3\n",
      "Enter value for Credit_Utilization_Ratio: 45\n",
      "Enter value for Credit_History_Age: 256\n",
      "Enter value for Total_EMI_per_month: 46\n",
      "Enter value for Monthly_Balance: 256\n",
      "Enter value for Credit_Score: 2\n",
      "Enter value for Log_Annual_Income: 12\n",
      "Predicted Cluster for the User Input: 0\n",
      "Predicted Cluster List:\n",
      "0    1\n",
      "1    1\n",
      "2    1\n",
      "3    1\n",
      "4    1\n",
      "5    1\n",
      "6    1\n",
      "7    1\n",
      "8    1\n",
      "9    1\n",
      "Name: Cluster, dtype: int32\n",
      "...\n",
      "99990    2\n",
      "99991    2\n",
      "99992    1\n",
      "99993    1\n",
      "99994    1\n",
      "99995    1\n",
      "99996    1\n",
      "99997    1\n",
      "99998    1\n",
      "99999    1\n",
      "Name: Cluster, dtype: int32\n"
     ]
    }
   ],
   "source": [
    "columns_for_clustering = ['Age', 'Monthly_Inhand_Salary', 'Num_Bank_Accounts', 'Num_Credit_Card',\n",
    "                           'Credit_Utilization_Ratio', 'Credit_History_Age', 'Total_EMI_per_month',\n",
    "                           'Monthly_Balance', 'Credit_Score', 'Log_Annual_Income']\n",
    "\n",
    "# Impute missing values\n",
    "imputer = SimpleImputer(strategy='mean')\n",
    "df[columns_for_clustering] = imputer.fit_transform(df[columns_for_clustering])\n",
    "\n",
    "# Standardize the data\n",
    "scaler = StandardScaler()\n",
    "df_scaled = scaler.fit_transform(df[columns_for_clustering])\n",
    "\n",
    "# Apply KMeans clustering\n",
    "optimal_k = 3  # Replace with the optimal number of clusters based on your analysis\n",
    "kmeans = KMeans(n_clusters=optimal_k, init='k-means++', max_iter=300, n_init=10, random_state=0)\n",
    "df['Cluster'] = kmeans.fit_predict(df_scaled)\n",
    "\n",
    "# Display the DataFrame with assigned clusters\n",
    "print(df)\n",
    "\n",
    "# Compute metrics\n",
    "silhouette_avg = silhouette_score(df_scaled, df['Cluster'])\n",
    "print(f\"Silhouette Score: {silhouette_avg}\")\n",
    "\n",
    "davies_bouldin = davies_bouldin_score(df_scaled, df['Cluster'])\n",
    "print(f\"Davies-Bouldin Index: {davies_bouldin}\")\n",
    "\n",
    "# User input for a sample\n",
    "user_input = {}\n",
    "for column in columns_for_clustering:\n",
    "    user_input[column] = float(input(f\"Enter value for {column}: \"))\n",
    "\n",
    "# Convert user input to a DataFrame\n",
    "sample_input = pd.DataFrame(user_input, index=[0])\n",
    "\n",
    "# Impute missing values for the sample input\n",
    "sample_input[columns_for_clustering] = imputer.transform(sample_input[columns_for_clustering])\n",
    "\n",
    "# Standardize the sample input\n",
    "sample_input_scaled = scaler.transform(sample_input[columns_for_clustering])\n",
    "\n",
    "# Predict the cluster for the user input\n",
    "predicted_cluster = kmeans.predict(sample_input_scaled)[0]\n",
    "print(f'Predicted Cluster for the User Input: {predicted_cluster}')\n",
    "\n",
    "# Retrieve the predicted cluster list for the entire dataset\n",
    "predicted_clusters_list = df['Cluster']\n",
    "print(\"Predicted Cluster List:\")\n",
    "print(predicted_clusters_list[:10])  # Displaying the first 10 elements\n",
    "print(\"...\")\n",
    "print(predicted_clusters_list[-10:])  # Displaying the last 10 elements"
   ]
  },
  {
   "cell_type": "code",
   "execution_count": 53,
   "id": "0aa29dd2",
   "metadata": {},
   "outputs": [
    {
     "data": {
      "text/plain": [
       "['kmeans_model.pkl']"
      ]
     },
     "execution_count": 53,
     "metadata": {},
     "output_type": "execute_result"
    }
   ],
   "source": [
    "joblib.dump(imputer, 'imputer.pkl')\n",
    "joblib.dump(scaler, 'scaler.pkl')\n",
    "joblib.dump(kmeans, 'kmeans_model.pkl')"
   ]
  },
  {
   "cell_type": "code",
   "execution_count": 54,
   "id": "0ac5b93d",
   "metadata": {},
   "outputs": [
    {
     "name": "stdout",
     "output_type": "stream",
     "text": [
      "Enter value for Age: 21\n",
      "Enter value for Monthly_Inhand_Salary: 5142\n",
      "Enter value for Num_Bank_Accounts: 2\n",
      "Enter value for Num_Credit_Card: 3\n",
      "Enter value for Credit_Utilization_Ratio: 45\n",
      "Enter value for Credit_History_Age: 256\n",
      "Enter value for Total_EMI_per_month: 46\n",
      "Enter value for Monthly_Balance: 256\n",
      "Enter value for Credit_Score: 2\n",
      "Enter value for Log_Annual_Income: 12\n",
      "Predicted Credit Risk: 0\n",
      "Accuracy: 0.8754\n",
      "Confusion Matrix:\n",
      "[[16373   719]\n",
      " [ 1773  1135]]\n",
      "Classification Report:\n",
      "              precision    recall  f1-score   support\n",
      "\n",
      "           0       0.90      0.96      0.93     17092\n",
      "           1       0.61      0.39      0.48      2908\n",
      "\n",
      "    accuracy                           0.88     20000\n",
      "   macro avg       0.76      0.67      0.70     20000\n",
      "weighted avg       0.86      0.88      0.86     20000\n",
      "\n"
     ]
    }
   ],
   "source": [
    "import pandas as pd\n",
    "import numpy as np\n",
    "from sklearn.model_selection import train_test_split\n",
    "from sklearn.preprocessing import StandardScaler\n",
    "from sklearn.ensemble import RandomForestClassifier\n",
    "from sklearn.metrics import accuracy_score, classification_report, confusion_matrix\n",
    "\n",
    "\n",
    "# Assuming you have a 'Credit_Risk' column indicating default or non-default\n",
    "# If not, create the target variable based on your criteria\n",
    "# For example, assuming 'Default' and 'Non-Default' are two classes\n",
    "# Assuming 'Payment_Behaviour' column indicates default or non-default\n",
    "# If 'High_spent_Large_value_payments' is considered default, for example\n",
    "df['Credit_Risk'] = np.where(df['Payment_Behaviour'] == 'High_spent_Large_value_payments', 1, 0)\n",
    "\n",
    "\n",
    "# Select relevant features for credit scoring\n",
    "features = ['Age', 'Monthly_Inhand_Salary', 'Num_Bank_Accounts', 'Num_Credit_Card',\n",
    "            'Credit_Utilization_Ratio', 'Credit_History_Age', 'Total_EMI_per_month',\n",
    "            'Monthly_Balance', 'Credit_Score', 'Log_Annual_Income']\n",
    "\n",
    "# Split the data into training and testing sets\n",
    "X_train, X_test, y_train, y_test = train_test_split(df[features], df['Credit_Risk'], test_size=0.2, random_state=42)\n",
    "\n",
    "# Standardize the data\n",
    "scaler = StandardScaler()\n",
    "X_train_scaled = scaler.fit_transform(X_train)\n",
    "X_test_scaled = scaler.transform(X_test)\n",
    "\n",
    "# Train a Random Forest Classifier\n",
    "rf_model = RandomForestClassifier(random_state=42)\n",
    "rf_model.fit(X_train_scaled, y_train)\n",
    "\n",
    "# Predictions on the test set\n",
    "y_pred = rf_model.predict(X_test_scaled)\n",
    "\n",
    "user_input = {}\n",
    "for feature in features:\n",
    "    user_input[feature] = float(input(f\"Enter value for {feature}: \"))\n",
    "\n",
    "# Convert user input to a DataFrame\n",
    "sample_input = pd.DataFrame(user_input, index=[0])\n",
    "\n",
    "# Standardize the sample input\n",
    "sample_input_scaled = scaler.transform(sample_input)\n",
    "\n",
    "# Predict the credit risk for the user input\n",
    "predicted_credit_risk = rf_model.predict(sample_input_scaled)[0]\n",
    "print(f'Predicted Credit Risk: {predicted_credit_risk}')\n",
    "\n",
    "# Evaluate the model\n",
    "accuracy = accuracy_score(y_test, y_pred)\n",
    "conf_matrix = confusion_matrix(y_test, y_pred)\n",
    "classification_rep = classification_report(y_test, y_pred)\n",
    "\n",
    "print(f'Accuracy: {accuracy}')\n",
    "print(f'Confusion Matrix:\\n{conf_matrix}')\n",
    "print(f'Classification Report:\\n{classification_rep}')"
   ]
  },
  {
   "cell_type": "code",
   "execution_count": 55,
   "id": "6ef7c19a",
   "metadata": {},
   "outputs": [
    {
     "data": {
      "text/plain": [
       "['scaler1.pkl']"
      ]
     },
     "execution_count": 55,
     "metadata": {},
     "output_type": "execute_result"
    }
   ],
   "source": [
    "joblib.dump(rf_model, 'rf_model.pkl')\n",
    "joblib.dump(scaler, 'scaler1.pkl')"
   ]
  },
  {
   "cell_type": "code",
   "execution_count": 56,
   "id": "d7974aec",
   "metadata": {},
   "outputs": [
    {
     "data": {
      "image/png": "[encoded data removed]",
      "text/plain": [
       "<Figure size 1000x600 with 1 Axes>"
      ]
     },
     "metadata": {},
     "output_type": "display_data"
    }
   ],
   "source": [
    "plt.figure(figsize=(10, 6))\n",
    "sb.boxplot(x='Amount_invested_monthly', data=df)\n",
    "plt.title('Box Plot for Log-Transformed Annual Income')\n",
    "plt.show()"
   ]
  },
  {
   "cell_type": "code",
   "execution_count": 57,
   "id": "60bab456",
   "metadata": {},
   "outputs": [
    {
     "data": {
      "image/png": "[encoded data removed]",
      "text/plain": [
       "<Figure size 1000x600 with 1 Axes>"
      ]
     },
     "metadata": {},
     "output_type": "display_data"
    }
   ],
   "source": [
    "df['Amount_invested_monthly'] = np.log1p(df['Amount_invested_monthly'])\n",
    "\n",
    "plt.figure(figsize=(10, 6))\n",
    "sb.boxplot(x='Amount_invested_monthly', data=df)\n",
    "plt.title('Box Plot for Log-Transformed Annual Income')\n",
    "plt.show()"
   ]
  },
  {
   "cell_type": "code",
   "execution_count": 58,
   "id": "870bb754",
   "metadata": {},
   "outputs": [
    {
     "data": {
      "image/png": "[encoded data removed]",
      "text/plain": [
       "<Figure size 1000x600 with 1 Axes>"
      ]
     },
     "metadata": {},
     "output_type": "display_data"
    }
   ],
   "source": [
    "plt.figure(figsize=(10, 6))\n",
    "sb.boxplot(x='Monthly_Balance', data=df)\n",
    "plt.title('Box Plot for Monthly_Balance')\n",
    "plt.show()"
   ]
  },
  {
   "cell_type": "code",
   "execution_count": 59,
   "id": "c0bed318",
   "metadata": {},
   "outputs": [
    {
     "name": "stderr",
     "output_type": "stream",
     "text": [
      "C:\\ProgramData\\anaconda3\\Lib\\site-packages\\pandas\\core\\arraylike.py:402: RuntimeWarning: overflow encountered in expm1\n",
      "  result = getattr(ufunc, method)(*inputs, **kwargs)\n",
      "C:\\ProgramData\\anaconda3\\Lib\\site-packages\\matplotlib\\axes\\_base.py:2917: RuntimeWarning: overflow encountered in scalar add\n",
      "  x0, x1 = inverse_trans.transform([x0t - delta, x1t + delta])\n"
     ]
    },
    {
     "data": {
      "image/png": "[encoded data removed]",
      "text/plain": [
       "<Figure size 1000x600 with 1 Axes>"
      ]
     },
     "metadata": {},
     "output_type": "display_data"
    }
   ],
   "source": [
    "df['Monthly_Balance'] = np.expm1(df['Monthly_Balance'])\n",
    "\n",
    "plt.figure(figsize=(10, 6))\n",
    "sb.boxplot(x='Monthly_Balance', data=df)\n",
    "plt.title('Box Plot for Monthly_Balance')\n",
    "plt.show()"
   ]
  },
  {
   "cell_type": "code",
   "execution_count": 60,
   "id": "99dc9cc3",
   "metadata": {},
   "outputs": [],
   "source": [
    "Q1 = df['Monthly_Balance'].quantile(0.25)\n",
    "Q3 = df['Monthly_Balance'].quantile(0.75)\n",
    "IQR = Q3 - Q1\n",
    "\n",
    "# Define lower and upper bounds\n",
    "lower_bound = Q1 - 1.5 * IQR\n",
    "upper_bound = Q3 + 1.5 * IQR"
   ]
  },
  {
   "cell_type": "code",
   "execution_count": 61,
   "id": "a94cbdaf",
   "metadata": {},
   "outputs": [],
   "source": [
    "threshold = upper_bound  # You can choose a different threshold\n",
    "df['Monthly_Balance'] = np.where(df['Monthly_Balance'] > upper_bound, threshold, df['Monthly_Balance'])"
   ]
  },
  {
   "cell_type": "code",
   "execution_count": 62,
   "id": "1af35040",
   "metadata": {},
   "outputs": [
    {
     "data": {
      "image/png": "[encoded data removed]",
      "text/plain": [
       "<Figure size 1000x600 with 1 Axes>"
      ]
     },
     "metadata": {},
     "output_type": "display_data"
    }
   ],
   "source": [
    "plt.figure(figsize=(10, 6))\n",
    "sb.boxplot(x='Monthly_Balance', data=df)\n",
    "plt.title('Box Plot for Monthly_Balance')\n",
    "plt.show()"
   ]
  },
  {
   "cell_type": "code",
   "execution_count": 63,
   "id": "10156d43",
   "metadata": {},
   "outputs": [],
   "source": [
    "df1 = pd.read_csv(r\"D:\\Data Science\\project\\final project\\Credit.csv\")"
   ]
  },
  {
   "cell_type": "code",
   "execution_count": 64,
   "id": "9a6db8bd",
   "metadata": {},
   "outputs": [],
   "source": [
    "df['Monthly_Balance'] = df1['Monthly_Balance']"
   ]
  },
  {
   "cell_type": "code",
   "execution_count": 65,
   "id": "cde595bc",
   "metadata": {},
   "outputs": [
    {
     "data": {
      "text/html": [
       "<div>\n",
       "<style scoped>\n",
       "    .dataframe tbody tr th:only-of-type {\n",
       "        vertical-align: middle;\n",
       "    }\n",
       "\n",
       "    .dataframe tbody tr th {\n",
       "        vertical-align: top;\n",
       "    }\n",
       "\n",
       "    .dataframe thead th {\n",
       "        text-align: right;\n",
       "    }\n",
       "</style>\n",
       "<table border=\"1\" class=\"dataframe\">\n",
       "  <thead>\n",
       "    <tr style=\"text-align: right;\">\n",
       "      <th></th>\n",
       "      <th>ID</th>\n",
       "      <th>Customer_ID</th>\n",
       "      <th>Month</th>\n",
       "      <th>Name</th>\n",
       "      <th>Age</th>\n",
       "      <th>Occupation</th>\n",
       "      <th>Monthly_Inhand_Salary</th>\n",
       "      <th>Num_Bank_Accounts</th>\n",
       "      <th>Num_Credit_Card</th>\n",
       "      <th>Interest_Rate</th>\n",
       "      <th>...</th>\n",
       "      <th>Credit_History_Age</th>\n",
       "      <th>Payment_of_Min_Amount</th>\n",
       "      <th>Total_EMI_per_month</th>\n",
       "      <th>Amount_invested_monthly</th>\n",
       "      <th>Payment_Behaviour</th>\n",
       "      <th>Monthly_Balance</th>\n",
       "      <th>Credit_Score</th>\n",
       "      <th>Log_Annual_Income</th>\n",
       "      <th>Cluster</th>\n",
       "      <th>Credit_Risk</th>\n",
       "    </tr>\n",
       "  </thead>\n",
       "  <tbody>\n",
       "    <tr>\n",
       "      <th>0</th>\n",
       "      <td>5634</td>\n",
       "      <td>3392</td>\n",
       "      <td>1</td>\n",
       "      <td>Aaron Maashoh</td>\n",
       "      <td>23.0</td>\n",
       "      <td>Scientist</td>\n",
       "      <td>1824.843333</td>\n",
       "      <td>3.0</td>\n",
       "      <td>4.0</td>\n",
       "      <td>3</td>\n",
       "      <td>...</td>\n",
       "      <td>265.0</td>\n",
       "      <td>0</td>\n",
       "      <td>49.574949</td>\n",
       "      <td>3.111975</td>\n",
       "      <td>High_spent_Small_value_payments</td>\n",
       "      <td>312.494089</td>\n",
       "      <td>2.000000</td>\n",
       "      <td>9.858235</td>\n",
       "      <td>1</td>\n",
       "      <td>0</td>\n",
       "    </tr>\n",
       "    <tr>\n",
       "      <th>1</th>\n",
       "      <td>5635</td>\n",
       "      <td>3392</td>\n",
       "      <td>2</td>\n",
       "      <td>Aaron Maashoh</td>\n",
       "      <td>23.0</td>\n",
       "      <td>Scientist</td>\n",
       "      <td>1824.843333</td>\n",
       "      <td>3.0</td>\n",
       "      <td>4.0</td>\n",
       "      <td>3</td>\n",
       "      <td>...</td>\n",
       "      <td>266.0</td>\n",
       "      <td>0</td>\n",
       "      <td>49.574949</td>\n",
       "      <td>3.111975</td>\n",
       "      <td>Low_spent_Large_value_payments</td>\n",
       "      <td>284.629163</td>\n",
       "      <td>2.000000</td>\n",
       "      <td>9.858235</td>\n",
       "      <td>1</td>\n",
       "      <td>0</td>\n",
       "    </tr>\n",
       "    <tr>\n",
       "      <th>2</th>\n",
       "      <td>5636</td>\n",
       "      <td>3392</td>\n",
       "      <td>3</td>\n",
       "      <td>Aaron Maashoh</td>\n",
       "      <td>23.0</td>\n",
       "      <td>Scientist</td>\n",
       "      <td>1824.843333</td>\n",
       "      <td>3.0</td>\n",
       "      <td>4.0</td>\n",
       "      <td>3</td>\n",
       "      <td>...</td>\n",
       "      <td>267.0</td>\n",
       "      <td>0</td>\n",
       "      <td>49.574949</td>\n",
       "      <td>3.111975</td>\n",
       "      <td>Low_spent_Medium_value_payments</td>\n",
       "      <td>331.209863</td>\n",
       "      <td>2.000000</td>\n",
       "      <td>9.858235</td>\n",
       "      <td>1</td>\n",
       "      <td>0</td>\n",
       "    </tr>\n",
       "    <tr>\n",
       "      <th>3</th>\n",
       "      <td>5637</td>\n",
       "      <td>3392</td>\n",
       "      <td>4</td>\n",
       "      <td>Aaron Maashoh</td>\n",
       "      <td>23.0</td>\n",
       "      <td>Scientist</td>\n",
       "      <td>1824.843333</td>\n",
       "      <td>3.0</td>\n",
       "      <td>4.0</td>\n",
       "      <td>3</td>\n",
       "      <td>...</td>\n",
       "      <td>268.0</td>\n",
       "      <td>0</td>\n",
       "      <td>49.574949</td>\n",
       "      <td>3.111975</td>\n",
       "      <td>Low_spent_Small_value_payments</td>\n",
       "      <td>223.451310</td>\n",
       "      <td>2.000000</td>\n",
       "      <td>9.858235</td>\n",
       "      <td>1</td>\n",
       "      <td>0</td>\n",
       "    </tr>\n",
       "    <tr>\n",
       "      <th>4</th>\n",
       "      <td>5638</td>\n",
       "      <td>3392</td>\n",
       "      <td>5</td>\n",
       "      <td>Aaron Maashoh</td>\n",
       "      <td>23.0</td>\n",
       "      <td>Scientist</td>\n",
       "      <td>1824.843333</td>\n",
       "      <td>3.0</td>\n",
       "      <td>4.0</td>\n",
       "      <td>3</td>\n",
       "      <td>...</td>\n",
       "      <td>269.0</td>\n",
       "      <td>0</td>\n",
       "      <td>49.574949</td>\n",
       "      <td>3.111975</td>\n",
       "      <td>High_spent_Medium_value_payments</td>\n",
       "      <td>341.489231</td>\n",
       "      <td>2.000000</td>\n",
       "      <td>9.858235</td>\n",
       "      <td>1</td>\n",
       "      <td>0</td>\n",
       "    </tr>\n",
       "    <tr>\n",
       "      <th>...</th>\n",
       "      <td>...</td>\n",
       "      <td>...</td>\n",
       "      <td>...</td>\n",
       "      <td>...</td>\n",
       "      <td>...</td>\n",
       "      <td>...</td>\n",
       "      <td>...</td>\n",
       "      <td>...</td>\n",
       "      <td>...</td>\n",
       "      <td>...</td>\n",
       "      <td>...</td>\n",
       "      <td>...</td>\n",
       "      <td>...</td>\n",
       "      <td>...</td>\n",
       "      <td>...</td>\n",
       "      <td>...</td>\n",
       "      <td>...</td>\n",
       "      <td>...</td>\n",
       "      <td>...</td>\n",
       "      <td>...</td>\n",
       "      <td>...</td>\n",
       "    </tr>\n",
       "    <tr>\n",
       "      <th>99995</th>\n",
       "      <td>155625</td>\n",
       "      <td>37932</td>\n",
       "      <td>4</td>\n",
       "      <td>Nicks</td>\n",
       "      <td>25.0</td>\n",
       "      <td>Mechanic</td>\n",
       "      <td>3359.415833</td>\n",
       "      <td>4.0</td>\n",
       "      <td>6.0</td>\n",
       "      <td>7</td>\n",
       "      <td>...</td>\n",
       "      <td>378.0</td>\n",
       "      <td>0</td>\n",
       "      <td>35.104023</td>\n",
       "      <td>3.220014</td>\n",
       "      <td>High_spent_Large_value_payments</td>\n",
       "      <td>479.866228</td>\n",
       "      <td>1.251092</td>\n",
       "      <td>10.587341</td>\n",
       "      <td>1</td>\n",
       "      <td>1</td>\n",
       "    </tr>\n",
       "    <tr>\n",
       "      <th>99996</th>\n",
       "      <td>155626</td>\n",
       "      <td>37932</td>\n",
       "      <td>5</td>\n",
       "      <td>Nicks</td>\n",
       "      <td>25.0</td>\n",
       "      <td>Mechanic</td>\n",
       "      <td>3359.415833</td>\n",
       "      <td>4.0</td>\n",
       "      <td>6.0</td>\n",
       "      <td>7</td>\n",
       "      <td>...</td>\n",
       "      <td>379.0</td>\n",
       "      <td>0</td>\n",
       "      <td>35.104023</td>\n",
       "      <td>3.220014</td>\n",
       "      <td>High_spent_Medium_value_payments</td>\n",
       "      <td>496.651610</td>\n",
       "      <td>1.251092</td>\n",
       "      <td>10.587341</td>\n",
       "      <td>1</td>\n",
       "      <td>0</td>\n",
       "    </tr>\n",
       "    <tr>\n",
       "      <th>99997</th>\n",
       "      <td>155627</td>\n",
       "      <td>37932</td>\n",
       "      <td>6</td>\n",
       "      <td>Nicks</td>\n",
       "      <td>25.0</td>\n",
       "      <td>Mechanic</td>\n",
       "      <td>3359.415833</td>\n",
       "      <td>4.0</td>\n",
       "      <td>6.0</td>\n",
       "      <td>7</td>\n",
       "      <td>...</td>\n",
       "      <td>380.0</td>\n",
       "      <td>0</td>\n",
       "      <td>35.104023</td>\n",
       "      <td>3.220014</td>\n",
       "      <td>High_spent_Large_value_payments</td>\n",
       "      <td>516.809083</td>\n",
       "      <td>1.251092</td>\n",
       "      <td>10.587341</td>\n",
       "      <td>1</td>\n",
       "      <td>1</td>\n",
       "    </tr>\n",
       "    <tr>\n",
       "      <th>99998</th>\n",
       "      <td>155628</td>\n",
       "      <td>37932</td>\n",
       "      <td>7</td>\n",
       "      <td>Nicks</td>\n",
       "      <td>25.0</td>\n",
       "      <td>Mechanic</td>\n",
       "      <td>3359.415833</td>\n",
       "      <td>4.0</td>\n",
       "      <td>6.0</td>\n",
       "      <td>7</td>\n",
       "      <td>...</td>\n",
       "      <td>381.0</td>\n",
       "      <td>0</td>\n",
       "      <td>35.104023</td>\n",
       "      <td>3.220014</td>\n",
       "      <td>Low_spent_Large_value_payments</td>\n",
       "      <td>319.164979</td>\n",
       "      <td>1.000000</td>\n",
       "      <td>10.587341</td>\n",
       "      <td>1</td>\n",
       "      <td>0</td>\n",
       "    </tr>\n",
       "    <tr>\n",
       "      <th>99999</th>\n",
       "      <td>155629</td>\n",
       "      <td>37932</td>\n",
       "      <td>8</td>\n",
       "      <td>Nicks</td>\n",
       "      <td>25.0</td>\n",
       "      <td>Mechanic</td>\n",
       "      <td>3359.415833</td>\n",
       "      <td>4.0</td>\n",
       "      <td>6.0</td>\n",
       "      <td>7</td>\n",
       "      <td>...</td>\n",
       "      <td>382.0</td>\n",
       "      <td>0</td>\n",
       "      <td>35.104023</td>\n",
       "      <td>3.220014</td>\n",
       "      <td>High_spent_Medium_value_payments</td>\n",
       "      <td>393.673696</td>\n",
       "      <td>1.251092</td>\n",
       "      <td>10.587341</td>\n",
       "      <td>1</td>\n",
       "      <td>0</td>\n",
       "    </tr>\n",
       "  </tbody>\n",
       "</table>\n",
       "<p>100000 rows × 31 columns</p>\n",
       "</div>"
      ],
      "text/plain": [
       "           ID  Customer_ID  Month           Name   Age Occupation  \\\n",
       "0        5634         3392      1  Aaron Maashoh  23.0  Scientist   \n",
       "1        5635         3392      2  Aaron Maashoh  23.0  Scientist   \n",
       "2        5636         3392      3  Aaron Maashoh  23.0  Scientist   \n",
       "3        5637         3392      4  Aaron Maashoh  23.0  Scientist   \n",
       "4        5638         3392      5  Aaron Maashoh  23.0  Scientist   \n",
       "...       ...          ...    ...            ...   ...        ...   \n",
       "99995  155625        37932      4          Nicks  25.0   Mechanic   \n",
       "99996  155626        37932      5          Nicks  25.0   Mechanic   \n",
       "99997  155627        37932      6          Nicks  25.0   Mechanic   \n",
       "99998  155628        37932      7          Nicks  25.0   Mechanic   \n",
       "99999  155629        37932      8          Nicks  25.0   Mechanic   \n",
       "\n",
       "       Monthly_Inhand_Salary  Num_Bank_Accounts  Num_Credit_Card  \\\n",
       "0                1824.843333                3.0              4.0   \n",
       "1                1824.843333                3.0              4.0   \n",
       "2                1824.843333                3.0              4.0   \n",
       "3                1824.843333                3.0              4.0   \n",
       "4                1824.843333                3.0              4.0   \n",
       "...                      ...                ...              ...   \n",
       "99995            3359.415833                4.0              6.0   \n",
       "99996            3359.415833                4.0              6.0   \n",
       "99997            3359.415833                4.0              6.0   \n",
       "99998            3359.415833                4.0              6.0   \n",
       "99999            3359.415833                4.0              6.0   \n",
       "\n",
       "       Interest_Rate  ...  Credit_History_Age Payment_of_Min_Amount  \\\n",
       "0                  3  ...               265.0                     0   \n",
       "1                  3  ...               266.0                     0   \n",
       "2                  3  ...               267.0                     0   \n",
       "3                  3  ...               268.0                     0   \n",
       "4                  3  ...               269.0                     0   \n",
       "...              ...  ...                 ...                   ...   \n",
       "99995              7  ...               378.0                     0   \n",
       "99996              7  ...               379.0                     0   \n",
       "99997              7  ...               380.0                     0   \n",
       "99998              7  ...               381.0                     0   \n",
       "99999              7  ...               382.0                     0   \n",
       "\n",
       "       Total_EMI_per_month  Amount_invested_monthly  \\\n",
       "0                49.574949                 3.111975   \n",
       "1                49.574949                 3.111975   \n",
       "2                49.574949                 3.111975   \n",
       "3                49.574949                 3.111975   \n",
       "4                49.574949                 3.111975   \n",
       "...                    ...                      ...   \n",
       "99995            35.104023                 3.220014   \n",
       "99996            35.104023                 3.220014   \n",
       "99997            35.104023                 3.220014   \n",
       "99998            35.104023                 3.220014   \n",
       "99999            35.104023                 3.220014   \n",
       "\n",
       "                      Payment_Behaviour  Monthly_Balance  Credit_Score  \\\n",
       "0       High_spent_Small_value_payments       312.494089      2.000000   \n",
       "1        Low_spent_Large_value_payments       284.629163      2.000000   \n",
       "2       Low_spent_Medium_value_payments       331.209863      2.000000   \n",
       "3        Low_spent_Small_value_payments       223.451310      2.000000   \n",
       "4      High_spent_Medium_value_payments       341.489231      2.000000   \n",
       "...                                 ...              ...           ...   \n",
       "99995   High_spent_Large_value_payments       479.866228      1.251092   \n",
       "99996  High_spent_Medium_value_payments       496.651610      1.251092   \n",
       "99997   High_spent_Large_value_payments       516.809083      1.251092   \n",
       "99998    Low_spent_Large_value_payments       319.164979      1.000000   \n",
       "99999  High_spent_Medium_value_payments       393.673696      1.251092   \n",
       "\n",
       "       Log_Annual_Income  Cluster  Credit_Risk  \n",
       "0               9.858235        1            0  \n",
       "1               9.858235        1            0  \n",
       "2               9.858235        1            0  \n",
       "3               9.858235        1            0  \n",
       "4               9.858235        1            0  \n",
       "...                  ...      ...          ...  \n",
       "99995          10.587341        1            1  \n",
       "99996          10.587341        1            0  \n",
       "99997          10.587341        1            1  \n",
       "99998          10.587341        1            0  \n",
       "99999          10.587341        1            0  \n",
       "\n",
       "[100000 rows x 31 columns]"
      ]
     },
     "execution_count": 65,
     "metadata": {},
     "output_type": "execute_result"
    }
   ],
   "source": [
    "df"
   ]
  },
  {
   "cell_type": "code",
   "execution_count": 67,
   "id": "6b9aabad",
   "metadata": {},
   "outputs": [
    {
     "name": "stdout",
     "output_type": "stream",
     "text": [
      "Enter value for Age: 21\n",
      "Enter value for Monthly_Inhand_Salary: 5142\n",
      "Enter value for Num_Bank_Accounts: 2\n",
      "Enter value for Num_Credit_Card: 3\n",
      "Enter value for Credit_History_Age: 256\n",
      "Enter value for Payment_of_Min_Amount: 0\n",
      "Enter value for Total_EMI_per_month: 49.574949\n",
      "Enter value for Monthly_Balance: 256\n",
      "Enter value for Credit_Score: 2\n",
      "Enter value for Log_Annual_Income: 12\n",
      "Predicted Amount_invested_monthly for the User Input: 4.983915601280333\n",
      "Mean Squared Error: 0.29305020251652514\n",
      "R-squared: 0.5679195833410631\n"
     ]
    }
   ],
   "source": [
    "import pandas as pd\n",
    "from sklearn.model_selection import train_test_split\n",
    "from sklearn.linear_model import LinearRegression\n",
    "from sklearn.metrics import mean_squared_error, r2_score\n",
    "from sklearn.preprocessing import StandardScaler\n",
    "\n",
    "# Assuming your dataframe is named df\n",
    "# Select relevant features for regression\n",
    "features = ['Age', 'Monthly_Inhand_Salary', 'Num_Bank_Accounts', 'Num_Credit_Card',\n",
    "            'Credit_History_Age', 'Payment_of_Min_Amount', 'Total_EMI_per_month',\n",
    "            'Monthly_Balance', 'Credit_Score', 'Log_Annual_Income']\n",
    "\n",
    "# Set the target variable\n",
    "target = 'Amount_invested_monthly'\n",
    "\n",
    "# Split the data into training and testing sets\n",
    "x_train, x_test, y_train, y_test = train_test_split(df[features], df[target], test_size=0.2, random_state=42)\n",
    "\n",
    "# Standardize the data\n",
    "scaler = StandardScaler()\n",
    "x_train_scaled = scaler.fit_transform(x_train)\n",
    "x_test_scaled = scaler.transform(x_test)\n",
    "\n",
    "# Train a Linear Regression model\n",
    "lr_model = LinearRegression()\n",
    "lr_model.fit(x_train_scaled, y_train)\n",
    "\n",
    "# Predictions on the test set\n",
    "y_pred = lr_model.predict(x_test_scaled)\n",
    "\n",
    "user_input = {}\n",
    "for column in features:\n",
    "    user_input[column] = float(input(f\"Enter value for {column}: \"))\n",
    "\n",
    "# Convert user input to a DataFrame\n",
    "sample_input = pd.DataFrame(user_input, index=[0])\n",
    "\n",
    "# Standardize the sample input\n",
    "sample_input_scaled = scaler.transform(sample_input)\n",
    "\n",
    "# Predict the 'Amount_invested_monthly' for the user input\n",
    "predicted_amount = lr_model.predict(sample_input_scaled)[0]\n",
    "print(f'Predicted Amount_invested_monthly for the User Input: {predicted_amount}')\n",
    "\n",
    "# Evaluate the model\n",
    "mse = mean_squared_error(y_test, y_pred)\n",
    "r2 = r2_score(y_test, y_pred)\n",
    "\n",
    "print(f'Mean Squared Error: {mse}')\n",
    "print(f'R-squared: {r2}')"
   ]
  },
  {
   "cell_type": "code",
   "execution_count": 68,
   "id": "1dbd563c",
   "metadata": {},
   "outputs": [
    {
     "data": {
      "text/plain": [
       "['scaler2.pkl']"
      ]
     },
     "execution_count": 68,
     "metadata": {},
     "output_type": "execute_result"
    }
   ],
   "source": [
    "joblib.dump(lr_model, 'lr_model.pkl')\n",
    "joblib.dump(scaler, 'scaler2.pkl')"
   ]
  },
  {
   "cell_type": "code",
   "execution_count": 69,
   "id": "e883aa9b",
   "metadata": {},
   "outputs": [],
   "source": [
    "df.to_csv('finaldata.csv', index=False)"
   ]
  },
  {
   "cell_type": "markdown",
   "id": "c3f04470",
   "metadata": {},
   "source": [
    "# Conclusion"
   ]
  },
  {
   "cell_type": "markdown",
   "id": "daf425e3",
   "metadata": {},
   "source": [
    "We have first predict the credit score using in Randomforestclassifier and predict Good credit score. The predict the accuracy 0.87 and f1 score 0.88% to get the average.\n",
    "\n",
    "we have using Linearregression model get Predicted Amount_invested_monthly for the User Input as 4.98 at mean squared error 0.293 and R-squared is 0.56.\n",
    "\n",
    "As per the user input predict invested amount as 4.98."
   ]
  },
  {
   "cell_type": "code",
   "execution_count": null,
   "id": "88f15da5",
   "metadata": {},
   "outputs": [],
   "source": []
  }
 ],
 "metadata": {
  "kernelspec": {
   "display_name": "Python 3 (ipykernel)",
   "language": "python",
   "name": "python3"
  },
  "language_info": {
   "codemirror_mode": {
    "name": "ipython",
    "version": 3
   },
   "file_extension": ".py",
   "mimetype": "text/x-python",
   "name": "python",
   "nbconvert_exporter": "python",
   "pygments_lexer": "ipython3",
   "version": "3.11.3"
  }
 },
 "nbformat": 4,
 "nbformat_minor": 5
}
